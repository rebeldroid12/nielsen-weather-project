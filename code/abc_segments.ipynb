{
 "cells": [
  {
   "cell_type": "code",
   "execution_count": 1,
   "id": "d552e586-38c2-4819-abf0-ca31a3e11024",
   "metadata": {},
   "outputs": [],
   "source": [
    "import pandas as pd\n",
    "\n",
    "import sys\n",
    "sys.path.append('../')\n",
    "\n",
    "from helpers.utils import read_docx_to_dict, fetch_biggest_text, mark_use_row, check_text_likeness, parse_words\n",
    "from helpers.utils import fetch_climate_words_in_words, fetch_climate_phrases_in_text, words_found_master_list, clean_lemmatized_words, lemmatize_words, master_stopwords_list, highlight_words\n",
    "\n",
    "from helpers.words import CLIMATE_CHANGE_RELATED_WORDS, CLIMATE_CHANGE_RELATED_PHRASES\n",
    "from helpers.cc_words import CC_WORDS, CC_PHRASES"
   ]
  },
  {
   "cell_type": "code",
   "execution_count": 2,
   "id": "4c8cc72c-7e5b-48b2-b838-d97f96243a92",
   "metadata": {},
   "outputs": [],
   "source": [
    "STATION = 'ABC'\n",
    "\n",
    "filename = f\"data/{STATION}/Analysis_12_30_21_Colorado_Fire_segments_ABC.docx\"\n",
    "filename2 = f\"data/{STATION}/Analysis_Colorado_Fire_ABC_Denver_Miami.docx\""
   ]
  },
  {
   "cell_type": "code",
   "execution_count": 3,
   "id": "f868fffd-a0ed-4244-933d-bf1fc8756b3c",
   "metadata": {},
   "outputs": [],
   "source": [
    "data = read_docx_to_dict(filename)\n",
    "data2 = read_docx_to_dict(filename2)"
   ]
  },
  {
   "cell_type": "code",
   "execution_count": 4,
   "id": "49fb858c-b020-4ad7-b81f-b757a56f9909",
   "metadata": {},
   "outputs": [
    {
     "name": "stdout",
     "output_type": "stream",
     "text": [
      "86\n",
      "64\n"
     ]
    }
   ],
   "source": [
    "pd.options.display.max_rows = 500\n",
    "\n",
    "# create dataframe\n",
    "df1 = pd.DataFrame.from_dict(data)\n",
    "df2 = pd.DataFrame.from_dict(data2)\n",
    "\n",
    "print(len(df1))\n",
    "print(len(df2))"
   ]
  },
  {
   "cell_type": "code",
   "execution_count": 5,
   "id": "cd950c7f-4e49-44b9-9213-3a3a62e953d6",
   "metadata": {},
   "outputs": [
    {
     "data": {
      "text/plain": [
       "150"
      ]
     },
     "execution_count": 5,
     "metadata": {},
     "output_type": "execute_result"
    }
   ],
   "source": [
    "df = pd.concat([df1, df2], ignore_index=True)\n",
    "df.index += 1 # set index to 1\n",
    "len(df)"
   ]
  },
  {
   "cell_type": "code",
   "execution_count": 6,
   "id": "b03cddec-d58c-4a51-b70f-ec97bddc11ff",
   "metadata": {},
   "outputs": [],
   "source": [
    "df['text'] = df['text'].str.lower()"
   ]
  },
  {
   "cell_type": "code",
   "execution_count": 7,
   "id": "8bad8898-5d43-490e-86b8-23ee2dbe2ea7",
   "metadata": {},
   "outputs": [],
   "source": [
    "# df.head(5)"
   ]
  },
  {
   "cell_type": "code",
   "execution_count": 8,
   "id": "d0500741-8818-4e60-bce1-183c3f547cd1",
   "metadata": {},
   "outputs": [],
   "source": [
    "# mark non dups\n",
    "non_dups = dict()\n",
    "for row in df.index:\n",
    "    if df['text'][row] not in non_dups:\n",
    "        non_dups[df['text'][row]] = { 'index': row }"
   ]
  },
  {
   "cell_type": "code",
   "execution_count": 9,
   "id": "65df61bb-b92f-4328-8b7f-0b66c4853450",
   "metadata": {},
   "outputs": [],
   "source": [
    "# mark non dups\n",
    "non_dup_index = [i['index'] for i in non_dups.values()]\n",
    "df['dup'] = None\n",
    "\n",
    "for row in df.index:\n",
    "    if row in non_dup_index:\n",
    "        df['dup'][row] = False\n",
    "    else:\n",
    "        df['dup'][row] = True "
   ]
  },
  {
   "cell_type": "code",
   "execution_count": 10,
   "id": "d20a1d42-0083-40c0-8d06-2f63775f8a19",
   "metadata": {},
   "outputs": [],
   "source": [
    "# df.head(5)"
   ]
  },
  {
   "cell_type": "code",
   "execution_count": null,
   "id": "1529cad2-6033-4bd7-a281-4039bcdcc863",
   "metadata": {},
   "outputs": [],
   "source": [
    "# only get ratio for non dups\n",
    "clean_df = df[df['dup'] == False]\n",
    "\n",
    "clean_df['matches'] = clean_df.apply(lambda row: check_text_likeness(clean_df, row['text']), axis=1)"
   ]
  },
  {
   "cell_type": "code",
   "execution_count": null,
   "id": "bac6a191-1419-4f04-90ec-d1f2f61ad11a",
   "metadata": {},
   "outputs": [],
   "source": [
    "clean_df['row_to_use'] = clean_df.apply(lambda row: fetch_biggest_text(clean_df, row['matches']), axis=1)"
   ]
  },
  {
   "cell_type": "code",
   "execution_count": null,
   "id": "113177cd-a2ff-4efb-9546-0464044c7966",
   "metadata": {},
   "outputs": [],
   "source": [
    "mark_use_row(clean_df)"
   ]
  },
  {
   "cell_type": "code",
   "execution_count": null,
   "id": "70af7826-852d-4a3f-b389-21062261cbf2",
   "metadata": {},
   "outputs": [],
   "source": [
    "# df.head(5)"
   ]
  },
  {
   "cell_type": "code",
   "execution_count": null,
   "id": "836042ba-81d4-446b-a8df-86f5fcfbda71",
   "metadata": {},
   "outputs": [],
   "source": [
    "clean_df.head(5)"
   ]
  },
  {
   "cell_type": "code",
   "execution_count": null,
   "id": "2f96a769-f143-46ef-baf6-ea7956f56a30",
   "metadata": {},
   "outputs": [],
   "source": [
    "# merge matches\n",
    "df = pd.merge(df, clean_df[[\"matches\", \"row_to_use\", \"use_row\"]], left_index=True, right_index=True, how='left')"
   ]
  },
  {
   "cell_type": "code",
   "execution_count": null,
   "id": "5f3b3a46-ceb3-4b47-95ba-3a384dcf7f8c",
   "metadata": {},
   "outputs": [],
   "source": [
    "df['use_row'] = df['use_row'].fillna(False)"
   ]
  },
  {
   "cell_type": "code",
   "execution_count": null,
   "id": "0daddcc0-6b32-4daf-a54e-2b9b955fb19c",
   "metadata": {},
   "outputs": [],
   "source": [
    "df['matches'] = df['matches'].fillna('N/A')"
   ]
  },
  {
   "cell_type": "code",
   "execution_count": null,
   "id": "d800ea8a-6a07-49f4-9b77-a314c76ad66e",
   "metadata": {},
   "outputs": [],
   "source": [
    "# df.head(15)"
   ]
  },
  {
   "cell_type": "code",
   "execution_count": null,
   "id": "b512af26-564a-44a1-b113-751b8b9333d8",
   "metadata": {},
   "outputs": [],
   "source": [
    "df['words'] = df['text'].str.lower().str.replace(',', '').str.replace('>', '').str.replace('.', '').str.replace('\\n', '').str.replace('’', \"'\").str.replace(\n",
    "    '!', '').str.replace('?', '').str.replace('%', '').str.replace(')', '').str.replace('(', '').str.replace('_', '').str.replace(':', '').str.strip().str.split(' ')"
   ]
  },
  {
   "cell_type": "code",
   "execution_count": null,
   "id": "557f96f0-a776-4778-ab3e-6b29b8f74905",
   "metadata": {},
   "outputs": [],
   "source": [
    "df['cc_clean_words'] = df.apply(lambda row: parse_words(row['words'], use_words=True), axis=1)"
   ]
  },
  {
   "cell_type": "code",
   "execution_count": null,
   "id": "4d97a0a6-11f1-45e4-8050-53caf7d20149",
   "metadata": {},
   "outputs": [],
   "source": [
    "df['my_clean_words'] = df.apply(lambda row: parse_words(row['words'], use_words=False), axis=1)"
   ]
  },
  {
   "cell_type": "code",
   "execution_count": null,
   "id": "190b69ca-4e76-4ad9-96c7-b4f4c5afc8b2",
   "metadata": {},
   "outputs": [],
   "source": [
    "# df.head(5)"
   ]
  },
  {
   "cell_type": "code",
   "execution_count": null,
   "id": "660d6518-7358-4697-b698-fa0e7311c8a9",
   "metadata": {},
   "outputs": [],
   "source": [
    "df['cc_climate_words_found'] = df.apply(lambda row: fetch_climate_words_in_words(row['cc_clean_words'], use_words=True), axis=1)"
   ]
  },
  {
   "cell_type": "code",
   "execution_count": null,
   "id": "7e0f053f-4060-4d81-ab2f-69f407e98edf",
   "metadata": {},
   "outputs": [],
   "source": [
    "df['my_climate_words_found'] = df.apply(lambda row: fetch_climate_words_in_words(row['my_clean_words'], use_words=False), axis=1)"
   ]
  },
  {
   "cell_type": "code",
   "execution_count": null,
   "id": "de9326a4-053f-4f6d-837c-865a3b7ab775",
   "metadata": {},
   "outputs": [],
   "source": [
    "df.head(5)"
   ]
  },
  {
   "cell_type": "code",
   "execution_count": null,
   "id": "9f3ba0fd-2f49-4add-9487-373939b080e7",
   "metadata": {},
   "outputs": [],
   "source": [
    "df['cc_climate_phrases_found'] = df.apply(lambda row: fetch_climate_phrases_in_text(row['text'], use_phrases=True), axis=1)"
   ]
  },
  {
   "cell_type": "code",
   "execution_count": null,
   "id": "fa922dfd-b63a-403a-b953-85bfb0508cb2",
   "metadata": {},
   "outputs": [],
   "source": [
    "df['my_climate_phrases_found'] = df.apply(lambda row: fetch_climate_phrases_in_text(row['text'], use_phrases=False), axis=1)"
   ]
  },
  {
   "cell_type": "code",
   "execution_count": null,
   "id": "eaee4da9-a149-4cd9-88e2-dc6cd8479e19",
   "metadata": {},
   "outputs": [],
   "source": [
    "# save data to csv\n",
    "csv = f'reports/{STATION}/{STATION}.csv'\n",
    "df.to_csv(csv, encoding='utf-8')"
   ]
  },
  {
   "cell_type": "code",
   "execution_count": null,
   "id": "6bf0a0fd-20f7-4639-ba71-7c38f4b8471d",
   "metadata": {},
   "outputs": [],
   "source": [
    "# get unique segments that were aired\n",
    "unique_df = df[df['use_row']]"
   ]
  },
  {
   "cell_type": "code",
   "execution_count": null,
   "id": "c6f6749a-fc15-4377-852b-ca9066a9f850",
   "metadata": {},
   "outputs": [],
   "source": [
    "# unique_df"
   ]
  },
  {
   "cell_type": "code",
   "execution_count": null,
   "id": "c3c30a84-8856-4e96-81d8-f0d33ac201c1",
   "metadata": {},
   "outputs": [],
   "source": [
    "# generate list of words found for comparison \n",
    "words_found = words_found_master_list(unique_df['cc_clean_words'])\n",
    "len(words_found)"
   ]
  },
  {
   "cell_type": "code",
   "execution_count": null,
   "id": "bf8a987f-7ca9-4f50-8217-9e7c69540ca5",
   "metadata": {},
   "outputs": [],
   "source": [
    "# clean/distill words to root words (playing, played -> play)\n",
    "clean_lemma_words = clean_lemmatized_words(lemmatize_words(words_found))"
   ]
  },
  {
   "cell_type": "code",
   "execution_count": null,
   "id": "8632540d-1bb5-405a-b69b-7936707790b3",
   "metadata": {},
   "outputs": [],
   "source": [
    "# get frequency distribution of words\n",
    "from nltk.probability import FreqDist\n",
    "\n",
    "lfdist = FreqDist(clean_lemma_words)\n",
    "lfdist\n",
    "\n",
    "import matplotlib.pyplot as plt\n",
    "lfdist.plot(30,cumulative=False)\n",
    "plt.show()"
   ]
  },
  {
   "cell_type": "code",
   "execution_count": null,
   "id": "e0a19ad8-9f5f-42cf-84eb-a7272f225b17",
   "metadata": {},
   "outputs": [],
   "source": [
    "from wordcloud import WordCloud\n",
    "from wordcloud import ImageColorGenerator\n",
    "from wordcloud import STOPWORDS\n",
    "import matplotlib.pyplot as plt\n",
    "\n",
    "# generate word cloud without stopwords (the, a, an, etc), for all words post lemmatization\n",
    "wordcloud = WordCloud(width = 3000, height = 2000, random_state=1, background_color='black', colormap='Set2', collocations=False, stopwords = master_stopwords_list()).generate_from_frequencies(lfdist)\n",
    "\n",
    "# Plot\n",
    "plt.figure( figsize=(15,10))\n",
    "plt.imshow(wordcloud, interpolation='bilinear')\n",
    "plt.axis(\"off\")\n",
    "#plt.show()\n",
    "\n",
    "word_cloud_png = f'reports/{STATION}/word_cloud.png'\n",
    "plt.savefig(word_cloud_png)"
   ]
  },
  {
   "cell_type": "code",
   "execution_count": null,
   "id": "d2313ec1-ce01-4dd0-98f8-fcec5c23cdeb",
   "metadata": {},
   "outputs": [],
   "source": [
    "# MY\n",
    "# my climate change related words\n",
    "\n",
    "# Generate word counts, get percent of my climate change related words among total words\n",
    "my_words_found = words_found_master_list(unique_df['my_clean_words'])\n",
    "my_clean_lemma_words = clean_lemmatized_words(lemmatize_words(my_words_found))\n",
    "my_lfdist = FreqDist(my_clean_lemma_words)\n",
    "\n",
    "my_words_df = pd.DataFrame(my_lfdist.items(), columns=['Word', 'Count'])\n",
    "\n",
    "my_words_df.sort_values(by=['Count'], ascending=False, inplace=True)\n",
    "\n",
    "\n",
    "# get my climate change related words\n",
    "my_climate_change_words_df = my_words_df.loc[my_words_df['Word'].isin(CLIMATE_CHANGE_RELATED_WORDS)]\n",
    "\n",
    "my_climate_words_count = my_climate_change_words_df['Count'].sum()\n",
    "my_non_climate_words_count = my_words_df['Count'].sum() - my_climate_words_count\n",
    "\n",
    "my_comparison_df = pd.DataFrame({'Words': ['Climate-related', 'Non Climate-related'],\n",
    "                             'counts': [my_climate_words_count, my_non_climate_words_count]})\n",
    "my_comparison_df.set_index('Words', inplace=True)\n",
    "print(my_comparison_df)\n",
    "\n",
    "plot = my_comparison_df.plot.pie(y='counts', title=\"(My) Climate-related vs Non Climate-related Words\", legend=True, autopct='%1.1f%%', shadow=True, figsize=(8, 8))\n",
    "\n",
    "fig = plot.get_figure()\n",
    "\n",
    "my_pie_chart_png = f'reports/{STATION}/my_comparison.png'\n",
    "fig.savefig(my_pie_chart_png)"
   ]
  },
  {
   "cell_type": "code",
   "execution_count": null,
   "id": "ae59d1c8-d966-416e-838b-48ee60cd046c",
   "metadata": {},
   "outputs": [],
   "source": [
    "# MY\n",
    "# my climated related words found -- frequencies\n",
    "my_climate_change_words_found = list(my_climate_change_words_df['Word'].unique())\n",
    "print(my_climate_change_words_found)\n",
    "\n",
    "# set figure size\n",
    "fig, ax = plt.subplots(figsize=(12, 8))\n",
    "\n",
    "# plot horizontal bar plot\n",
    "my_climate_change_words_df.sort_values(by='Count').plot.barh(x=\"Word\", y=\"Count\", ax=ax)\n",
    "# set the title\n",
    "plt.title(\"(My) Count of Climate Change Related Words\")\n",
    "\n",
    "for i, v in enumerate(my_climate_change_words_df['Count'].sort_values()):\n",
    "    ax.text(v, i , str(v),\n",
    "            color = 'blue', fontweight = 'bold')\n",
    "\n",
    "# plt.show()\n",
    "my_breakdown_png = f'reports/{STATION}/my-climate-related-words-breakdown.png'\n",
    "plt.savefig(my_breakdown_png, transparent=False)"
   ]
  },
  {
   "cell_type": "code",
   "execution_count": null,
   "id": "56af8080-dd02-4aab-9fb5-b2012f9b50f4",
   "metadata": {},
   "outputs": [],
   "source": [
    "# CC\n",
    "# cc climate change related words\n",
    "\n",
    "# Generate word counts, get percent of my climate change related words among total words\n",
    "cc_words_df = pd.DataFrame(lfdist.items(), columns=['Word', 'Count'])\n",
    "cc_words_df.sort_values(by=['Count'], ascending=False, inplace=True)\n",
    "\n",
    "\n",
    "# get cc climate change related words\n",
    "cc_climate_change_words_df = cc_words_df.loc[cc_words_df['Word'].isin(CC_WORDS)]\n",
    "\n",
    "cc_climate_words_count = cc_climate_change_words_df['Count'].sum()\n",
    "cc_non_climate_words_count = cc_words_df['Count'].sum() - cc_climate_words_count\n",
    "\n",
    "cc_comparison_df = pd.DataFrame({'Words': ['Climate-related', 'Non Climate-related'],\n",
    "                             'counts': [cc_climate_words_count, cc_non_climate_words_count]})\n",
    "cc_comparison_df.set_index('Words', inplace=True)\n",
    "print(cc_comparison_df)\n",
    "\n",
    "plot = cc_comparison_df.plot.pie(y='counts', title=\"(CC) Climated-relate vs Non Climated-relate Words\", legend=True, autopct='%1.1f%%', shadow=True, figsize=(8, 8))\n",
    "\n",
    "fig = plot.get_figure()\n",
    "\n",
    "pie_chart_png_cc = f'reports/{STATION}/cc_comparison.png'\n",
    "fig.savefig(pie_chart_png_cc)"
   ]
  },
  {
   "cell_type": "code",
   "execution_count": null,
   "id": "64563aa9-cf7e-47ed-9037-57ca090d8be4",
   "metadata": {},
   "outputs": [],
   "source": [
    "# CC\n",
    "# cc climated related words found -- frequencies\n",
    "cc_climate_change_words_found = list(cc_climate_change_words_df['Word'].unique())\n",
    "print(cc_climate_change_words_found)\n",
    "\n",
    "# set figure size\n",
    "fig, ax = plt.subplots(figsize=(12, 8))\n",
    "# plot horizontal bar plot\n",
    "cc_climate_change_words_df.sort_values(by='Count').plot.barh(x=\"Word\", y=\"Count\", ax=ax)\n",
    "# set the title\n",
    "plt.title(\"(CC) Count of Climate Change Related Words\")\n",
    "\n",
    "for i, v in enumerate(cc_climate_change_words_df['Count'].sort_values()):\n",
    "    ax.text(v, i , str(v),\n",
    "            color = 'blue', fontweight = 'bold')\n",
    "\n",
    "# plt.show()\n",
    "cc_breakdown_png = f'reports/{STATION}/cc-climate-related-words-breakdown.png'\n",
    "plt.savefig(cc_breakdown_png, transparent=False)"
   ]
  },
  {
   "cell_type": "code",
   "execution_count": null,
   "id": "7d3cfddc-66b1-483c-a3d5-812bc179ee5b",
   "metadata": {},
   "outputs": [],
   "source": [
    "# total segments\n",
    "total_segments = len(df)\n",
    "total_segments\n"
   ]
  },
  {
   "cell_type": "code",
   "execution_count": null,
   "id": "4d44a3a7-b324-4e96-9a81-851e38405c76",
   "metadata": {},
   "outputs": [],
   "source": [
    "# unique segments\n",
    "unique_segments = len(df[df['use_row'] == True])\n",
    "unique_segments"
   ]
  },
  {
   "cell_type": "code",
   "execution_count": null,
   "id": "3b92856b-9496-41d4-89a3-f4abcf8f05f1",
   "metadata": {},
   "outputs": [],
   "source": [
    "# MY how many segments had climate related words/phrases — %\n",
    "\n",
    "possible_climate_related_segments = len(df[(df[\"my_climate_words_found\"].str.len() != 0) & (df[\"use_row\"] == True)])\n",
    "possible_climate_related_segments\n",
    "\n",
    "\n",
    "f'{possible_climate_related_segments / unique_segments * 100.0} %'"
   ]
  },
  {
   "cell_type": "code",
   "execution_count": null,
   "id": "afb2eed9-4336-4e50-89bb-a3ce568892dc",
   "metadata": {},
   "outputs": [],
   "source": [
    "# CC how many segments had climate related words/phrases — %\n",
    "\n",
    "cc_possible_climate_related_segments = len(df[(df[\"cc_climate_words_found\"].str.len() != 0) & (df[\"use_row\"] == True)])\n",
    "cc_possible_climate_related_segments\n",
    "\n",
    "\n",
    "f'{cc_possible_climate_related_segments / unique_segments * 100.0} %'"
   ]
  },
  {
   "cell_type": "code",
   "execution_count": null,
   "id": "fdf14ed5-695f-49ea-8789-fad5915c45f2",
   "metadata": {},
   "outputs": [],
   "source": [
    "my_climate_change_words_found.sort()\n",
    "cc_climate_change_words_found.sort()"
   ]
  },
  {
   "cell_type": "code",
   "execution_count": null,
   "id": "fce95a91-7306-42c7-9e61-dbf75f86e89e",
   "metadata": {},
   "outputs": [],
   "source": [
    "my_segments_w_climate_words_dict = df[(df['my_climate_words_found'].str.len() != 0) & (df[\"use_row\"] == True)][['my_clean_words','matches']].to_dict('index')\n",
    "cc_segments_w_climate_words_dict = df[(df['cc_climate_words_found'].str.len() != 0) & (df[\"use_row\"] == True)][['cc_clean_words','matches']].to_dict('index')"
   ]
  },
  {
   "cell_type": "code",
   "execution_count": null,
   "id": "46c7f193-4f43-4895-a1e6-e370a5293430",
   "metadata": {},
   "outputs": [],
   "source": [
    "my_climate_phrases_found = set([ p[0] for p in df.my_climate_phrases_found if p])\n",
    "cc_climate_phrases_found = set([ p[0] for p in df.cc_climate_phrases_found if p])\n",
    "    "
   ]
  },
  {
   "cell_type": "code",
   "execution_count": null,
   "id": "d83ffdfa-062a-4eac-96f9-30df6a4eff65",
   "metadata": {},
   "outputs": [],
   "source": [
    "# Word Doc\n",
    "\n",
    "from docx import Document\n",
    "doc = Document()\n",
    "doc.add_heading(f'{STATION} summary')\n",
    "\n",
    "doc.add_paragraph(f'Data can be found at: {csv}')\n",
    "doc.add_paragraph(f'Total segments: {total_segments}')\n",
    "doc.add_paragraph(f'Number of unique segments: {unique_segments} -- defined by matching other segments. match is defined as being 85% similar')\n",
    "doc.add_paragraph(f'Found {possible_climate_related_segments} potential climate related segments when comparing (my) climate related words')\n",
    "doc.add_paragraph(f'Found {cc_possible_climate_related_segments} potential climate related segments when comparing given (CC) climate related words')\n",
    "\n",
    "doc.add_heading('Word Cloud:', level=1)\n",
    "doc.add_picture(word_cloud_png)\n",
    "\n",
    "doc.add_heading('Word Comparison: My words', level=1)\n",
    "table = doc.add_table(rows=1, cols=2)\n",
    "row = table.rows[0].cells\n",
    "row[0].text = 'Word type'\n",
    "row[1].text = 'Counts'\n",
    "\n",
    "for word_type in my_comparison_df.index:\n",
    "    \n",
    "    row = table.add_row().cells\n",
    "    row[0].text = word_type\n",
    "    row[1].text = str(my_comparison_df.loc[word_type]['counts'])\n",
    "\n",
    "doc.add_picture(my_pie_chart_png)\n",
    "\n",
    "\n",
    "doc.add_heading('Climate Related Words Graph: My words', level=1)\n",
    "doc.add_picture(my_breakdown_png)\n",
    "\n",
    "doc.add_heading('List of My Climate Related Words Found', level=2)\n",
    "for word in my_climate_change_words_found:\n",
    "    doc.add_paragraph(word, style='List Bullet')\n",
    "\n",
    "doc.add_paragraph().add_run().add_break()\n",
    "    \n",
    "doc.add_heading('List of My Climate Related Phrases Found', level=2)\n",
    "if my_climate_phrases_found:\n",
    "    for word in my_climate_phrases_found:\n",
    "        doc.add_paragraph(word, style='List Bullet')\n",
    "else:\n",
    "    doc.add_paragraph('None')\n",
    "\n",
    "doc.add_page_break()\n",
    "\n",
    "doc.add_heading('Potential segments with my climate related words:', level=2)\n",
    "\n",
    "for k, v in my_segments_w_climate_words_dict.items():\n",
    "    para_start = doc.add_paragraph(f'*** row {k} ')\n",
    "    if len(v['matches']) != 1 and v['matches'] != 'N/A':\n",
    "        para_start.add_run(f\"-- matches rows:  {v['matches']}\")\n",
    "    para_start.add_run('***')\n",
    "    highlight_words(doc, v['my_clean_words'], CLIMATE_CHANGE_RELATED_WORDS)\n",
    "\n",
    "doc.add_page_break()\n",
    "\n",
    "doc.add_heading('Word Comparison: CC words', level=1)\n",
    "table = doc.add_table(rows=1, cols=2)\n",
    "row = table.rows[0].cells\n",
    "row[0].text = 'Word type'\n",
    "row[1].text = 'Counts'\n",
    "\n",
    "for word_type in cc_comparison_df.index:\n",
    "    \n",
    "    row = table.add_row().cells\n",
    "    row[0].text = word_type\n",
    "    row[1].text = str(cc_comparison_df.loc[word_type]['counts'])\n",
    "\n",
    "doc.add_picture(pie_chart_png_cc)\n",
    "\n",
    "doc.add_heading('Climate Related Words Graph: CC words', level=1)\n",
    "doc.add_picture(cc_breakdown_png)\n",
    "\n",
    "doc.add_heading('List of CC Climate Related Words Found', level=2)\n",
    "for word in cc_climate_change_words_found:\n",
    "    doc.add_paragraph(word, style='List Bullet')\n",
    "\n",
    "doc.add_paragraph().add_run().add_break()\n",
    "    \n",
    "doc.add_heading('List of My Climate Related Phrases Found', level=2)\n",
    "if cc_climate_phrases_found:\n",
    "    for word in cc_climate_phrases_found:\n",
    "        doc.add_paragraph(word, style='List Bullet')\n",
    "else:\n",
    "    doc.add_paragraph('None')\n",
    "    \n",
    "doc.add_page_break()\n",
    "    \n",
    "doc.add_heading('Potential segments with CC climate related words:', level=2)\n",
    "    \n",
    "for k, v in cc_segments_w_climate_words_dict.items():\n",
    "    para_start = doc.add_paragraph(f'*** row {k} ')\n",
    "    if len(v['matches']) != 1 and v['matches'] != 'N/A':\n",
    "        para_start.add_run(f\"-- matches rows:  {v['matches']}\")\n",
    "    para_start.add_run('***')\n",
    "    highlight_words(doc, v['cc_clean_words'], CC_WORDS)\n",
    "    \n",
    "\n",
    "doc.save(f\"reports/{STATION}/{STATION}_summary.docx\")"
   ]
  }
 ],
 "metadata": {
  "kernelspec": {
   "display_name": "Python 3 (ipykernel)",
   "language": "python",
   "name": "python3"
  },
  "language_info": {
   "codemirror_mode": {
    "name": "ipython",
    "version": 3
   },
   "file_extension": ".py",
   "mimetype": "text/x-python",
   "name": "python",
   "nbconvert_exporter": "python",
   "pygments_lexer": "ipython3",
   "version": "3.7.4"
  },
  "toc-showcode": true
 },
 "nbformat": 4,
 "nbformat_minor": 5
}
