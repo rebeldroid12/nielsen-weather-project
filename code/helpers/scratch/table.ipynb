{
 "cells": [
  {
   "cell_type": "code",
   "execution_count": 2,
   "id": "c6ba7cef-feee-4667-8aaa-9d061aa8871a",
   "metadata": {},
   "outputs": [],
   "source": [
    "# Import docx NOT python-docx\n",
    "import docx\n",
    "\n",
    "# Create an instance of a word document\n",
    "doc = docx.Document()\n",
    "\n",
    "# Add a Title to the document\n",
    "doc.add_heading('GeeksForGeeks', 0)\n",
    "\n",
    "# Table data in a form of list\n",
    "data = (\n",
    "\t(1, 'Geek 1'),\n",
    "\t(2, 'Geek 2'),\n",
    "\t(3, 'Geek 3')\n",
    ")\n",
    "\n",
    "# Creating a table object\n",
    "table = doc.add_table(rows=1, cols=2)\n",
    "\n",
    "# Adding heading in the 1st row of the table\n",
    "row = table.rows[0].cells\n",
    "row[0].text = 'Id'\n",
    "row[1].text = 'Name'\n",
    "\n",
    "# Adding data from the list to the table\n",
    "for id, name in data:\n",
    "\n",
    "\t# Adding a row and then adding data in it.\n",
    "\trow = table.add_row().cells\n",
    "\t# Converting id to string as table can only take string input\n",
    "\trow[0].text = str(id)\n",
    "\trow[1].text = name\n",
    "\n",
    "# Now save the document to a location\n",
    "doc.save('gfg2.docx')\n"
   ]
  }
 ],
 "metadata": {
  "kernelspec": {
   "display_name": "Python 3 (ipykernel)",
   "language": "python",
   "name": "python3"
  },
  "language_info": {
   "codemirror_mode": {
    "name": "ipython",
    "version": 3
   },
   "file_extension": ".py",
   "mimetype": "text/x-python",
   "name": "python",
   "nbconvert_exporter": "python",
   "pygments_lexer": "ipython3",
   "version": "3.7.4"
  }
 },
 "nbformat": 4,
 "nbformat_minor": 5
}
