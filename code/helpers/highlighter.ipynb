{
 "cells": [
  {
   "cell_type": "code",
   "execution_count": 3,
   "id": "732e6b40-693b-4080-90ca-332486fbb637",
   "metadata": {},
   "outputs": [],
   "source": [
    "class Color:\n",
    "   PURPLE = '\\033[95m'\n",
    "   CYAN = '\\033[96m'\n",
    "   DARKCYAN = '\\033[36m'\n",
    "   BLUE = '\\033[94m'\n",
    "   GREEN = '\\033[92m'\n",
    "   YELLOW = '\\033[93m'\n",
    "   RED = '\\033[91m'\n",
    "   BOLD = '\\033[1m'\n",
    "   UNDERLINE = '\\033[4m'\n",
    "\n",
    "   END = '\\033[0m'"
   ]
  },
  {
   "cell_type": "code",
   "execution_count": 52,
   "id": "24ae24ca-b2b2-4937-aeb4-a92a662a07d3",
   "metadata": {},
   "outputs": [],
   "source": [
    "texts = [\"climate change is real\", \"s'all good man\", 'climate climate']\n",
    "words = ['climate', 'real']\n",
    "phrases = ['climate change']"
   ]
  },
  {
   "cell_type": "code",
   "execution_count": 70,
   "id": "c8531fe4-b805-4772-91bb-1352a6391412",
   "metadata": {},
   "outputs": [
    {
     "name": "stdout",
     "output_type": "stream",
     "text": [
      "\u001b[46mclimate change\u001b[49m is real\n"
     ]
    }
   ],
   "source": [
    "from colorama import Back\n",
    "\n",
    "def highlight(word, text):\n",
    "    highlighted_word = Back.CYAN + word + Back.RESET\n",
    "    \n",
    "    if word in text:\n",
    "        return text.replace(word, highlighted_word)\n",
    "    else:\n",
    "        return ''\n",
    "        \n",
    "print(highlight_word(phrases[0], texts[0]))"
   ]
  },
  {
   "cell_type": "code",
   "execution_count": 54,
   "id": "295ed0fa-700d-4dab-943e-ec22f2e2cd09",
   "metadata": {},
   "outputs": [],
   "source": [
    "\n",
    "def highlight_words_found(climate_words, text):\n",
    "    if not climate_words:\n",
    "        return ''\n",
    "    \n",
    "    return [highlight_word(word, text) for word in climate_words]\n",
    "    "
   ]
  },
  {
   "cell_type": "code",
   "execution_count": null,
   "id": "92570833-5418-4ab4-9072-c977d1d64252",
   "metadata": {},
   "outputs": [],
   "source": []
  },
  {
   "cell_type": "code",
   "execution_count": 55,
   "id": "ea66f744-812d-4795-af97-043c246521b0",
   "metadata": {},
   "outputs": [
    {
     "name": "stdout",
     "output_type": "stream",
     "text": [
      "\u001b[1m\u001b[91m\u001b[4mclimate\u001b[0m change is real\n",
      "\n",
      "\u001b[1m\u001b[91m\u001b[4mclimate\u001b[0m \u001b[1m\u001b[91m\u001b[4mclimate\u001b[0m\n",
      "climate change is \u001b[1m\u001b[91m\u001b[4mreal\u001b[0m\n",
      "\n",
      "\n"
     ]
    }
   ],
   "source": [
    "for word in words:\n",
    "    for text in texts:\n",
    "        print(highlight_word(word, text))         \n",
    "    "
   ]
  },
  {
   "cell_type": "code",
   "execution_count": null,
   "id": "5638af55-d4d3-4486-aa23-7b7d7bbc3975",
   "metadata": {},
   "outputs": [],
   "source": []
  },
  {
   "cell_type": "code",
   "execution_count": 67,
   "id": "67bfb2c2-0a29-4b91-b360-1c8ab5a8f629",
   "metadata": {},
   "outputs": [
    {
     "name": "stdout",
     "output_type": "stream",
     "text": [
      "\u001b[46mthis\u001b[49m is the\u001b[31m word \u001b[30myo\n"
     ]
    }
   ],
   "source": [
    "from colorama import Fore, Back, Style\n",
    "\n",
    "print(Back.CYAN + 'this' + Back.RESET +' is the' + Fore.RED + ' word '+ Fore.BLACK + 'yo')"
   ]
  },
  {
   "cell_type": "code",
   "execution_count": null,
   "id": "72f8722c-424e-4dc9-9a09-cfa27e2c4ab6",
   "metadata": {},
   "outputs": [],
   "source": []
  }
 ],
 "metadata": {
  "kernelspec": {
   "display_name": "Python 3 (ipykernel)",
   "language": "python",
   "name": "python3"
  },
  "language_info": {
   "codemirror_mode": {
    "name": "ipython",
    "version": 3
   },
   "file_extension": ".py",
   "mimetype": "text/x-python",
   "name": "python",
   "nbconvert_exporter": "python",
   "pygments_lexer": "ipython3",
   "version": "3.7.4"
  }
 },
 "nbformat": 4,
 "nbformat_minor": 5
}
